{
  "nbformat": 4,
  "nbformat_minor": 0,
  "metadata": {
    "colab": {
      "name": "projeto2.ipynb",
      "provenance": [],
      "mount_file_id": "1SJ1Kq5pTlVk76YyCJZFEn9hPzpYYj48m",
      "authorship_tag": "ABX9TyPzfyU/pZ6a7AP0ue94mJX7",
      "include_colab_link": true
    },
    "kernelspec": {
      "name": "python3",
      "display_name": "Python 3"
    }
  },
  "cells": [
    {
      "cell_type": "markdown",
      "metadata": {
        "id": "view-in-github",
        "colab_type": "text"
      },
      "source": [
        "<a href=\"https://colab.research.google.com/github/victorhmota/teste2/blob/main/projeto_pib.ipynb\" target=\"_parent\"><img src=\"https://colab.research.google.com/assets/colab-badge.svg\" alt=\"Open In Colab\"/></a>"
      ]
    },
    {
      "cell_type": "code",
      "metadata": {
        "id": "N7ocEtS77Nwy"
      },
      "source": [
        "import matplotlib.pyplot as plt"
      ],
      "execution_count": null,
      "outputs": []
    },
    {
      "cell_type": "code",
      "metadata": {
        "id": "sbEh7Vkf8y58"
      },
      "source": [
        "import numpy as np\n",
        "import pandas as pd"
      ],
      "execution_count": null,
      "outputs": []
    },
    {
      "cell_type": "code",
      "metadata": {
        "id": "u2UXIb868Fl8"
      },
      "source": [
        "pib = pd.read_csv('/content/drive/MyDrive/Python/Projeto/ipeadata[29-11-2020-02-02].csv', sep = ',', decimal= ',')"
      ],
      "execution_count": null,
      "outputs": []
    },
    {
      "cell_type": "code",
      "metadata": {
        "id": "hgjuOQ0R9gye",
        "colab": {
          "base_uri": "https://localhost:8080/"
        },
        "outputId": "90c2feaf-9e84-4ea0-b2b0-0b3d873b71f1"
      },
      "source": [
        "pib.columns.values"
      ],
      "execution_count": null,
      "outputs": [
        {
          "output_type": "execute_result",
          "data": {
            "text/plain": [
              "array(['Data',\n",
              "       'PIB - consumo final - índice (base 2010 = 100) - - - Instituto Brasileiro de Geografia e Estatística- Sistema de Contas Nacionais (IBGE/SCN Anual) - SCN10_CT10',\n",
              "       'Unnamed: 2'], dtype=object)"
            ]
          },
          "metadata": {
            "tags": []
          },
          "execution_count": 38
        }
      ]
    },
    {
      "cell_type": "code",
      "metadata": {
        "id": "qeZxe-Ix-D96"
      },
      "source": [
        "pib_df = pib.rename(columns={'PIB - consumo final - índice (base 2010 = 100) - - - Instituto Brasileiro de Geografia e Estatística- Sistema de Contas Nacionais (IBGE/SCN Anual) - SCN10_CT10': 'PIB'})"
      ],
      "execution_count": null,
      "outputs": []
    },
    {
      "cell_type": "code",
      "metadata": {
        "id": "ZDTMyiZW-P60"
      },
      "source": [
        "pib_df"
      ],
      "execution_count": null,
      "outputs": []
    },
    {
      "cell_type": "code",
      "metadata": {
        "id": "T3nKClfLMWDc",
        "colab": {
          "base_uri": "https://localhost:8080/"
        },
        "outputId": "753a04bf-1a5c-4b25-baed-a4607060aa49"
      },
      "source": [
        "pib_df.dtypes"
      ],
      "execution_count": null,
      "outputs": [
        {
          "output_type": "execute_result",
          "data": {
            "text/plain": [
              "Data            int64\n",
              "PIB            object\n",
              "Unnamed: 2    float64\n",
              "dtype: object"
            ]
          },
          "metadata": {
            "tags": []
          },
          "execution_count": 41
        }
      ]
    },
    {
      "cell_type": "code",
      "metadata": {
        "id": "cpywpElmJc5B"
      },
      "source": [
        "pib_df = pib_df.astype(float, copy= False)"
      ],
      "execution_count": null,
      "outputs": []
    },
    {
      "cell_type": "code",
      "metadata": {
        "id": "3xw6e4hfJv21",
        "colab": {
          "base_uri": "https://localhost:8080/"
        },
        "outputId": "528facf1-bf10-4148-f04e-4ec4facceeaa"
      },
      "source": [
        "pib_df.dtypes"
      ],
      "execution_count": null,
      "outputs": [
        {
          "output_type": "execute_result",
          "data": {
            "text/plain": [
              "Data          float64\n",
              "PIB           float64\n",
              "Unnamed: 2    float64\n",
              "dtype: object"
            ]
          },
          "metadata": {
            "tags": []
          },
          "execution_count": 43
        }
      ]
    },
    {
      "cell_type": "code",
      "metadata": {
        "id": "jiTGQ0MCJ2Q_",
        "colab": {
          "base_uri": "https://localhost:8080/",
          "height": 295
        },
        "outputId": "85ff05c5-1b16-4b1e-bef5-f7cf19d19168"
      },
      "source": [
        "pib_df.plot(x = 'Data', y = 'PIB', label = 'PIB - Brasil', linewidth = 3, color ='r');\n",
        "plt.ylabel('Índice PIB (2010 = 100)')\n",
        "plt.xlabel('Ano')\n",
        "plt.title('PIB Brasil com ano base 2010 = 100')\n",
        "plt.grid()"
      ],
      "execution_count": null,
      "outputs": [
        {
          "output_type": "display_data",
          "data": {
            "image/png": "[encoded data removed]",
            "text/plain": [
              "<Figure size 432x288 with 1 Axes>"
            ]
          },
          "metadata": {
            "tags": [],
            "needs_background": "light"
          }
        }
      ]
    },
    {
      "cell_type": "code",
      "metadata": {
        "id": "v8enrro0QsJu",
        "colab": {
          "base_uri": "https://localhost:8080/"
        },
        "outputId": "b10d997c-7ece-4fce-f74e-832b51a55254"
      },
      "source": [
        "max = np.max(pib_df['PIB'])\n",
        "max"
      ],
      "execution_count": null,
      "outputs": [
        {
          "output_type": "execute_result",
          "data": {
            "text/plain": [
              "112.899557317407"
            ]
          },
          "metadata": {
            "tags": []
          },
          "execution_count": 45
        }
      ]
    },
    {
      "cell_type": "code",
      "metadata": {
        "id": "yZkW8i4KRNc2",
        "colab": {
          "base_uri": "https://localhost:8080/"
        },
        "outputId": "1633dfe2-0187-4198-f39c-8225cf1a8ea9"
      },
      "source": [
        "min = np.min(pib_df['PIB'])\n",
        "min"
      ],
      "execution_count": null,
      "outputs": [
        {
          "output_type": "execute_result",
          "data": {
            "text/plain": [
              "21.1407148319168"
            ]
          },
          "metadata": {
            "tags": []
          },
          "execution_count": 46
        }
      ]
    },
    {
      "cell_type": "code",
      "metadata": {
        "id": "gmVYf2qURVqP",
        "colab": {
          "base_uri": "https://localhost:8080/"
        },
        "outputId": "0d99da23-238d-4a0b-dc2a-0dc76e42be9f"
      },
      "source": [
        "s = np.std(pib_df['PIB'])\n",
        "s"
      ],
      "execution_count": null,
      "outputs": [
        {
          "output_type": "execute_result",
          "data": {
            "text/plain": [
              "26.76380767971432"
            ]
          },
          "metadata": {
            "tags": []
          },
          "execution_count": 47
        }
      ]
    },
    {
      "cell_type": "code",
      "metadata": {
        "id": "3JxZp1XiNd81"
      },
      "source": [
        "media_70 = np.mean(pib_df.PIB[0:10])\n",
        "media_80 = np.mean(pib_df.PIB[10:20])\n",
        "media_90 = np.mean(pib_df.PIB[20:30])\n",
        "media_00 = np.mean(pib_df.PIB[30:40])\n",
        "media_10 = np.mean(pib_df.PIB[40:50])"
      ],
      "execution_count": null,
      "outputs": []
    },
    {
      "cell_type": "code",
      "metadata": {
        "id": "Wunn9Ht8O3wo"
      },
      "source": [
        "media_decadas = {'Década' : [70, 80, 90, 00, 10], 'PIB_medio': [media_70, media_80, media_90, media_00, media_10]}\n",
        "media_decadas_df = pd.DataFrame(media_decadas, index = [0,1,2,3,4])"
      ],
      "execution_count": null,
      "outputs": []
    },
    {
      "cell_type": "code",
      "metadata": {
        "id": "6JgBMuteRgOD",
        "colab": {
          "base_uri": "https://localhost:8080/",
          "height": 204
        },
        "outputId": "966ea622-c0f0-41fa-d1f6-4e2bf3d1b0b6"
      },
      "source": [
        "media_decadas_df"
      ],
      "execution_count": null,
      "outputs": [
        {
          "output_type": "execute_result",
          "data": {
            "text/html": [
              "<div>\n",
              "<style scoped>\n",
              "    .dataframe tbody tr th:only-of-type {\n",
              "        vertical-align: middle;\n",
              "    }\n",
              "\n",
              "    .dataframe tbody tr th {\n",
              "        vertical-align: top;\n",
              "    }\n",
              "\n",
              "    .dataframe thead th {\n",
              "        text-align: right;\n",
              "    }\n",
              "</style>\n",
              "<table border=\"1\" class=\"dataframe\">\n",
              "  <thead>\n",
              "    <tr style=\"text-align: right;\">\n",
              "      <th></th>\n",
              "      <th>Década</th>\n",
              "      <th>PIB_medio</th>\n",
              "    </tr>\n",
              "  </thead>\n",
              "  <tbody>\n",
              "    <tr>\n",
              "      <th>0</th>\n",
              "      <td>70</td>\n",
              "      <td>32.556607</td>\n",
              "    </tr>\n",
              "    <tr>\n",
              "      <th>1</th>\n",
              "      <td>80</td>\n",
              "      <td>48.369189</td>\n",
              "    </tr>\n",
              "    <tr>\n",
              "      <th>2</th>\n",
              "      <td>90</td>\n",
              "      <td>61.170463</td>\n",
              "    </tr>\n",
              "    <tr>\n",
              "      <th>3</th>\n",
              "      <td>0</td>\n",
              "      <td>79.043433</td>\n",
              "    </tr>\n",
              "    <tr>\n",
              "      <th>4</th>\n",
              "      <td>10</td>\n",
              "      <td>108.145693</td>\n",
              "    </tr>\n",
              "  </tbody>\n",
              "</table>\n",
              "</div>"
            ],
            "text/plain": [
              "  Década   PIB_medio\n",
              "0     70   32.556607\n",
              "1     80   48.369189\n",
              "2     90   61.170463\n",
              "3      0   79.043433\n",
              "4     10  108.145693"
            ]
          },
          "metadata": {
            "tags": []
          },
          "execution_count": 52
        }
      ]
    },
    {
      "cell_type": "code",
      "metadata": {
        "colab": {
          "base_uri": "https://localhost:8080/"
        },
        "id": "ZwbCeroaWrd4",
        "outputId": "4394efcd-6e9b-4266-e201-7b3190667e0c"
      },
      "source": [
        "media_decadas_df.dtypes"
      ],
      "execution_count": null,
      "outputs": [
        {
          "output_type": "execute_result",
          "data": {
            "text/plain": [
              "Década         int64\n",
              "PIB_medio    float64\n",
              "dtype: object"
            ]
          },
          "metadata": {
            "tags": []
          },
          "execution_count": 55
        }
      ]
    },
    {
      "cell_type": "code",
      "metadata": {
        "id": "E_P09EGFUio2"
      },
      "source": [
        "media_decadas_df.Década = media_decadas_df.Década.astype(str, copy=False)"
      ],
      "execution_count": null,
      "outputs": []
    },
    {
      "cell_type": "code",
      "metadata": {
        "id": "uAmHFmh0UzEy",
        "colab": {
          "base_uri": "https://localhost:8080/"
        },
        "outputId": "97bd4796-b5bb-4eec-9520-ce0bea333717"
      },
      "source": [
        "media_decadas_df.dtypes"
      ],
      "execution_count": null,
      "outputs": [
        {
          "output_type": "execute_result",
          "data": {
            "text/plain": [
              "Década        object\n",
              "PIB_medio    float64\n",
              "dtype: object"
            ]
          },
          "metadata": {
            "tags": []
          },
          "execution_count": 58
        }
      ]
    },
    {
      "cell_type": "code",
      "metadata": {
        "id": "DhTQDz-bRxZh",
        "colab": {
          "base_uri": "https://localhost:8080/",
          "height": 312
        },
        "outputId": "310fa36b-643e-426d-faa4-935072c6ea7a"
      },
      "source": [
        "plt.bar(media_decadas_df['Década'], media_decadas_df['PIB_medio']);\n",
        "plt.ylabel('PIB médio')\n",
        "plt.xlabel('Década')\n",
        "plt.title('PIB do Brasil por década')\n",
        "plt.grid()\n",
        "plt.show"
      ],
      "execution_count": null,
      "outputs": [
        {
          "output_type": "execute_result",
          "data": {
            "text/plain": [
              "<function matplotlib.pyplot.show>"
            ]
          },
          "metadata": {
            "tags": []
          },
          "execution_count": 59
        },
        {
          "output_type": "display_data",
          "data": {
            "image/png": "[encoded data removed]",
            "text/plain": [
              "<Figure size 432x288 with 1 Axes>"
            ]
          },
          "metadata": {
            "tags": [],
            "needs_background": "light"
          }
        }
      ]
    },
    {
      "cell_type": "code",
      "metadata": {
        "id": "NBBkA_Uvxgc9"
      },
      "source": [
        ""
      ],
      "execution_count": null,
      "outputs": []
    }
  ]
}